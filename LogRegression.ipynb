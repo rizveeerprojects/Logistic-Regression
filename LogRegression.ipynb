{
 "cells": [
  {
   "cell_type": "code",
   "execution_count": 15,
   "metadata": {
    "collapsed": true
   },
   "outputs": [],
   "source": [
    "import random\n",
    "import csv\n",
    "import pandas as pd \n",
    "import math\n",
    "import numpy as np\n",
    "import matplotlib.pyplot as plt\n",
    "from matplotlib.collections import EventCollection"
   ]
  },
  {
   "cell_type": "code",
   "execution_count": 49,
   "metadata": {},
   "outputs": [],
   "source": [
    "class LogisticRegression:\n",
    "    \n",
    "    def __init__(self,alpha,featureNames,classLabel,iteration):\n",
    "        self.iteration=iteration #iteration \n",
    "        self.classLabel = classLabel #class label \n",
    "        self.featureNames=featureNames #feature names \n",
    "        self.alpha=alpha #learning rate \n",
    "        self.featureVectorWeight=[] #theta values \n",
    "        for i in range(0,len(featureNames)+1): #random values \n",
    "            self.featureVectorWeight.append(random.randint(0,0)) \n",
    "        self.featureVectorWeight=np.array(self.featureVectorWeight) #numpy conversion\n",
    "        \n",
    "    def initiateProcess(self, trainFileName):\n",
    "        xl = pd.ExcelFile(trainFileName)\n",
    "        Sheet1 = xl.sheet_names\n",
    "        #debug: print Sheet1[0]\n",
    "        self.trainDataframe=xl.parse(Sheet1[0])\n",
    "        #making feature vector,label vector \n",
    "        self.X=[]\n",
    "        self.Y=[]\n",
    "        #debug: print self.trainDataframe\n",
    "        #iterating to access the dataframe to find out the features and classes \n",
    "        for index,row in self.trainDataframe.iterrows():\n",
    "            #feature extraction and saving into list \n",
    "            _list=[]\n",
    "            _list.append(1) #biasing feature \n",
    "            for i in self.featureNames:\n",
    "                _list.append(row[i])\n",
    "            array = np.array(_list)\n",
    "            self.X.append(array)\n",
    "            #class label extraction \n",
    "            self.Y.append(row[self.classLabel])\n",
    "        \n",
    "    def train(self):\n",
    "        iteration=0\n",
    "        x_values=[]\n",
    "        y_values=[]\n",
    "        while True:\n",
    "            iteration=iteration+1\n",
    "            if(iteration==self.iteration):\n",
    "                break \n",
    "            cf=self.cost_function()\n",
    "            x_values.append(iteration)\n",
    "            y_values.append(cf)\n",
    "            #print \"cost function = \",cf\n",
    "            self.theta_calculation()\n",
    "        self.drawCostGraph(x_values,y_values)\n",
    "        \n",
    "    def drawCostGraph(self,x_values,y_values):\n",
    "        plt.plot(x_values,y_values,linestyle='-', marker='o')\n",
    "        plt.show()\n",
    "        return\n",
    "\n",
    "    def cost_function(self):\n",
    "        _cost=0.0\n",
    "        for i in range(0,len(self.X)):\n",
    "            res=self.htheta_function(self.X[i])\n",
    "            value=self.Y[i]*1.0 * math.log10(res*1.0)+(1-self.Y[i]*1.0) * math.log10(1-res*1.0)\n",
    "            _cost=_cost+value \n",
    "        _cost=_cost*-1.0 \n",
    "        return _cost \n",
    "    \n",
    "    def theta_calculation(self):\n",
    "        updated_theta_values=[]\n",
    "        for i in range(0,len(self.featureVectorWeight)):\n",
    "            _sum=0.0\n",
    "            for j in range(0,len(self.X)):\n",
    "                value=(self.htheta_function(self.X[j])-self.Y[j])*1.0\n",
    "                _sum = _sum + value \n",
    "            _sum = _sum * self.alpha \n",
    "            updated_theta_values.append(self.featureVectorWeight[i]-_sum)\n",
    "        self.featureVectorWeight=np.array(updated_theta_values)\n",
    "        return \n",
    "                \n",
    "    def sigmoid(self,z):\n",
    "        denominator=1+math.exp(-1.0*z)\n",
    "        nominator=1.0\n",
    "        return (nominator*1.0/denominator)\n",
    "    \n",
    "    def htheta_function(self,feature_i):\n",
    "        z=np.dot(self.featureVectorWeight,feature_i) \n",
    "        return self.sigmoid(z)\n",
    "        "
   ]
  },
  {
   "cell_type": "code",
   "execution_count": 50,
   "metadata": {
    "scrolled": false
   },
   "outputs": [
    {
     "data": {
      "image/png": "[encoded data removed]",
      "text/plain": [
       "<matplotlib.figure.Figure at 0x7fbde5a62910>"
      ]
     },
     "metadata": {},
     "output_type": "display_data"
    }
   ],
   "source": [
    "featureNames=[\"Temperature\",\"Nausea\",\"Lumbar pain\",\"Urine pushing\",\"Micturition pains\",\"Burning of urethra\",\"Nephritis of renal\"]\n",
    "classLabel=\"urinary bladder\"\n",
    "iteration=2000\n",
    "lr=LogisticRegression(0.001,featureNames,classLabel,iteration)\n",
    "lr.initiateProcess('/home/rizvee/Books/5-1/Text Mining/Codes/Logistric Regression/Data/Acute Inflammations.xlsx')\n",
    "lr.train()"
   ]
  }
 ],
 "metadata": {
  "kernelspec": {
   "display_name": "Python 2",
   "language": "python",
   "name": "python2"
  },
  "language_info": {
   "codemirror_mode": {
    "name": "ipython",
    "version": 2
   },
   "file_extension": ".py",
   "mimetype": "text/x-python",
   "name": "python",
   "nbconvert_exporter": "python",
   "pygments_lexer": "ipython2",
   "version": "2.7.15"
  }
 },
 "nbformat": 4,
 "nbformat_minor": 2
}
